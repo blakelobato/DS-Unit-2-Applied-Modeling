{
  "nbformat": 4,
  "nbformat_minor": 0,
  "metadata": {
    "colab": {
      "name": "231A_applied_modeling_1.ipynb",
      "provenance": [],
      "collapsed_sections": [],
      "include_colab_link": true
    },
    "kernelspec": {
      "display_name": "Python 3",
      "language": "python",
      "name": "python3"
    },
    "language_info": {
      "codemirror_mode": {
        "name": "ipython",
        "version": 3
      },
      "file_extension": ".py",
      "mimetype": "text/x-python",
      "name": "python",
      "nbconvert_exporter": "python",
      "pygments_lexer": "ipython3",
      "version": "3.7.3"
    }
  },
  "cells": [
    {
      "cell_type": "markdown",
      "metadata": {
        "id": "view-in-github",
        "colab_type": "text"
      },
      "source": [
        "<a href=\"https://colab.research.google.com/github/blakelobato/DS-Unit-2-Applied-Modeling/blob/master/module2/231A_applied_modeling_1.ipynb\" target=\"_parent\"><img src=\"https://colab.research.google.com/assets/colab-badge.svg\" alt=\"Open In Colab\"/></a>"
      ]
    },
    {
      "cell_type": "markdown",
      "metadata": {
        "colab_type": "text",
        "id": "nCc3XZEyG3XV"
      },
      "source": [
        "Lambda School Data Science\n",
        "\n",
        "*Unit 2, Sprint 3, Module 1*\n",
        "\n",
        "---\n",
        "\n",
        "\n",
        "# Define ML problems\n",
        "\n",
        "You will use your portfolio project dataset for all assignments this sprint.\n",
        "\n",
        "## Assignment\n",
        "\n",
        "Complete these tasks for your project, and document your decisions.\n",
        "\n",
        "- [ ] Choose your target. Which column in your tabular dataset will you predict?\n",
        "- [ ] Is your problem regression or classification?\n",
        "- [ ] How is your target distributed?\n",
        "    - Classification: How many classes? Are the classes imbalanced?\n",
        "    - Regression: Is the target right-skewed? If so, you may want to log transform the target.\n",
        "- [ ] Choose which observations you will use to train, validate, and test your model.\n",
        "    - Are some observations outliers? Will you exclude them?\n",
        "    - Will you do a random split or a time-based split?\n",
        "- [ ] Choose your evaluation metric(s).\n",
        "    - Classification: Is your majority class frequency > 50% and < 70% ? If so, you can just use accuracy if you want. Outside that range, accuracy could be misleading. What evaluation metric will you choose, in addition to or instead of accuracy?\n",
        "- [ ] Begin to clean and explore your data.\n",
        "- [ ] Begin to choose which features, if any, to exclude. Would some features \"leak\" future information?"
      ]
    },
    {
      "cell_type": "markdown",
      "metadata": {
        "id": "_lySl3IiW05x",
        "colab_type": "text"
      },
      "source": [
        "1. Choose your target. Which column in your tabular dataset will you predict?\n",
        "\n",
        "  --- The target for this project is the diameter of the asteroid based on given parameters."
      ]
    },
    {
      "cell_type": "markdown",
      "metadata": {
        "id": "xG7Ns0bgDeWD",
        "colab_type": "text"
      },
      "source": [
        "2. Is your problem regression or classification?\n",
        "\n",
        "  --- This is a regression project that can also be turned into classification later on by determining a speicfic size to classify in (small, medium, large based on the sizes)"
      ]
    },
    {
      "cell_type": "markdown",
      "metadata": {
        "id": "yXbXDUz4DeY6",
        "colab_type": "text"
      },
      "source": [
        "3. How is your target distributed?\n",
        "\n",
        "  - Classification: How many classes? Are the classes imbalanced?\n",
        "  - Regression: Is the target right-skewed? If so, you may want to log transform the target."
      ]
    },
    {
      "cell_type": "markdown",
      "metadata": {
        "id": "AE70cRRGWL3Z",
        "colab_type": "text"
      },
      "source": [
        "-- slightly skewed to the right. Average is 3.296 but there is a max value of 939.4"
      ]
    },
    {
      "cell_type": "markdown",
      "metadata": {
        "id": "ldR1aywCDecZ",
        "colab_type": "text"
      },
      "source": [
        "4. Choose which observations you will use to train, validate, and test your model.\n",
        "  - Are some observations outliers? Will you exclude them?\n",
        "  - Will you do a ranodm split or a time-based split?\n",
        "\n"
      ]
    },
    {
      "cell_type": "markdown",
      "metadata": {
        "id": "qauP-6eb3eAy",
        "colab_type": "text"
      },
      "source": [
        "have over 130k entries so I will do 85/15 for train test and then another 80/20 on train and val."
      ]
    },
    {
      "cell_type": "markdown",
      "metadata": {
        "id": "8n4NrUmnFb_Q",
        "colab_type": "text"
      },
      "source": [
        "5. Choose your evaluation metric(s)\n",
        "  - Classification: is your majoirty class frequency > 50% and < 70%? If so, you can just use accuracy if you want. Outside that range, accuracy could be misleading. What evalution metric will you choose, in addition to oro instead of accuracy?"
      ]
    },
    {
      "cell_type": "markdown",
      "metadata": {
        "id": "oOSSbtNd3p1y",
        "colab_type": "text"
      },
      "source": [
        "-Will do all sorts like R2, RMS, MSE, MSA, and variance score"
      ]
    },
    {
      "cell_type": "markdown",
      "metadata": {
        "id": "H4feYP8KFsJ5",
        "colab_type": "text"
      },
      "source": [
        "6. Begin to clean and explore your data.\n",
        "\n",
        "--- I am deleting these columns..."
      ]
    },
    {
      "cell_type": "markdown",
      "metadata": {
        "id": "vblMYzAsFxEW",
        "colab_type": "text"
      },
      "source": [
        "7. Begin to choose what features, if any, to exclude. Would some features \"leak\" future information?\n"
      ]
    },
    {
      "cell_type": "markdown",
      "metadata": {
        "id": "7W_MfAeM33ba",
        "colab_type": "text"
      },
      "source": [
        "--- already dropped columns that are missing every value and then prefix column that doesn't have values. Will continue to look for columns that are leaking data like diameter (1-sigma) because it could have info related to the diameter. "
      ]
    }
  ]
}