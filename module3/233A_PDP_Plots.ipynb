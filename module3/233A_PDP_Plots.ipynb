{
  "nbformat": 4,
  "nbformat_minor": 0,
  "metadata": {
    "colab": {
      "name": "233A_PDP_Plots.ipynb",
      "provenance": [],
      "collapsed_sections": [],
      "include_colab_link": true
    },
    "kernelspec": {
      "name": "python3",
      "display_name": "Python 3"
    }
  },
  "cells": [
    {
      "cell_type": "markdown",
      "metadata": {
        "id": "view-in-github",
        "colab_type": "text"
      },
      "source": [
        "<a href=\"https://colab.research.google.com/github/blakelobato/DS-Unit-2-Applied-Modeling/blob/master/module3/233A_PDP_Plots.ipynb\" target=\"_parent\"><img src=\"https://colab.research.google.com/assets/colab-badge.svg\" alt=\"Open In Colab\"/></a>"
      ]
    },
    {
      "cell_type": "code",
      "metadata": {
        "id": "34TsX8V6rwlW",
        "colab_type": "code",
        "colab": {}
      },
      "source": [
        "#Assignment 233A\n",
        "#PDP plots"
      ],
      "execution_count": 0,
      "outputs": []
    },
    {
      "cell_type": "markdown",
      "metadata": {
        "id": "bPq2ha5_r14M",
        "colab_type": "text"
      },
      "source": [
        "Complete these tasks for your project, and document your work.\n",
        "\n",
        "\n",
        "\t•\t[ ] Continue to iterate on your project: data cleaning, exploration, feature engineering, modeling.\n",
        "\n",
        "\n",
        "\t•\t[ ] Make at least 1 partial dependence plot to explain your model.\n",
        "\n",
        "\n",
        "\t•\t[ ] Share at least 1 visualization on Slack.\n",
        "\n",
        "  \n",
        "If you have not yet completed an initial model yet for your portfolio project, you can do today's assignment using your Tanzania Waterpumps model. An example solution will be provided.\n",
        "Multi-class classification will result in multiple Partial Dependence Plots (one for each class)."
      ]
    },
    {
      "cell_type": "code",
      "metadata": {
        "id": "qPhfNb3yr-Ip",
        "colab_type": "code",
        "colab": {}
      },
      "source": [
        "#still cleaning data and waiting on oracle virtual machine to do the computation\n",
        "#strategy in making pdp plot below\n",
        "\n",
        "\n",
        "#1. fit and implment predticative model like xgboost, linear regression, random forrest, etc.\n",
        "#2. can create pdp plot on one feature using code below \n",
        "\n",
        "import matplotlib.pyplot as plt\n",
        "plt.rcParams['figure.dpi'] = 72\n",
        "from pdpbox.pdp import pdp_isolate, pdp_plot\n",
        "\n",
        "feature='Feature_We_Want_To_Analyze'\n",
        "\n",
        "isolated = pdp_isolate(\n",
        "    model = gb,\n",
        "    dataset = X_val,\n",
        "    model_features = X_val.columns,\n",
        "    feature = feature\n",
        ")\n",
        "\n",
        "pdp_plot(isolated, feature_name=feature)\n",
        "\n",
        "\n",
        "#3. can do many lines with this code\n",
        "\n",
        "pdp_plot(isolated, feature_name=feature, plot_lines=True, frac_to_plot=100)\n",
        "plt.xlim(0, 150000)\n",
        "\n",
        "#4. can do pdp with 2 features with this code\n",
        "\n",
        "from pdpbox.pdp import pdp_interact, pdp_interact_plot\n",
        "\n",
        "features=['Feature_1','Feature_2']\n",
        "\n",
        "interaction = pdp_interact(\n",
        "    model=gb,\n",
        "    dataset=X_val,\n",
        "    model_features=X_val.columns,\n",
        "    features=features\n",
        ")\n",
        "\n",
        "pdp_interact_plot(interaction, plot_type='grid', feature_names=features)"
      ],
      "execution_count": 0,
      "outputs": []
    }
  ]
}